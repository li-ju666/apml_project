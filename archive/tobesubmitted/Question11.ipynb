{
 "cells": [
  {
   "cell_type": "markdown",
   "id": "88704cbf",
   "metadata": {},
   "source": [
    "### This notebook implements one-step-ahead preiction for serieA with hyperparameter $\\sigma_t^2$ tuning"
   ]
  },
  {
   "cell_type": "code",
   "execution_count": 1,
   "id": "c16ddc0b",
   "metadata": {},
   "outputs": [],
   "source": [
    "import numpy as np\n",
    "from scipy import stats\n",
    "from scipy import optimize as opt\n",
    "import matplotlib.pyplot as plt\n",
    "import pandas as pd"
   ]
  },
  {
   "cell_type": "markdown",
   "id": "44535ab1",
   "metadata": {},
   "source": [
    "#### (TUNE_VAR == True) enables tuning of $\\sigma_t^2$"
   ]
  },
  {
   "cell_type": "code",
   "execution_count": 2,
   "id": "292cd0b0",
   "metadata": {},
   "outputs": [
    {
     "name": "stdout",
     "output_type": "stream",
     "text": [
      "Do you want to tune variance for a match result (y/n)?\n",
      "y\n"
     ]
    }
   ],
   "source": [
    "S_E = (25/6)**2\n",
    "\n",
    "user_choice = input(\"Do you want to tune variance for a match result (y/n)?\\n\")\n",
    "TUNE_VAR = True if (user_choice.lower() == \"y\") else False"
   ]
  },
  {
   "cell_type": "code",
   "execution_count": 4,
   "id": "22e9bfec",
   "metadata": {},
   "outputs": [],
   "source": [
    "# Tune variance for t to replace S_E if needed\n",
    "def tune_match_variance(t, m1, m2, v1, v2, s0):\n",
    "    '''s_e = argmax(Marginal Likelihood for data given in array t)'''\n",
    "    # marginal loglikelihood for optimization\n",
    "    def cost_func(sigma):\n",
    "        s = sigma + v1 + v2 # sigma = \\sigma_t^2\n",
    "        return np.sum( np.log(s) + (t - (m1 - m2))**2 / s )\n",
    "    \n",
    "    # derivative of marginal loglikelihood for optimization\n",
    "    def cost_func_grad(sigma):\n",
    "        s = sigma + v1 + v2\n",
    "        return np.sum( s**(-1) - (t - (m1 - m2))**2 * s**(-2) )\n",
    "\n",
    "    opt_res = opt.minimize(cost_func, x0=s0, method='cg', jac=cost_func_grad)\n",
    "    s_e = float(opt_res.x)\n",
    "    return s_e"
   ]
  },
  {
   "cell_type": "code",
   "execution_count": 5,
   "id": "108e0d18",
   "metadata": {},
   "outputs": [],
   "source": [
    "class Skill:\n",
    "    def __init__(self, mu=25, var=(25/3)**2):\n",
    "        self.mu = mu\n",
    "        self.var = var\n",
    "\n",
    "\n",
    "class Team:\n",
    "    def __init__(self, name, skill):\n",
    "        self.name = name\n",
    "        self.skill = skill\n",
    "\n",
    "    def predict(self, another, s_e=S_E):\n",
    "        lose_rate = stats.norm.cdf(x=0,\n",
    "                                   loc=self.skill.mu - another.skill.mu,\n",
    "                                   scale=(self.skill.var + another.skill.var + s_e) ** 0.5)\n",
    "        win_rate = 1 - lose_rate\n",
    "        return win_rate\n",
    "\n",
    "    def update(self, another, result, num_samples=3000, drops=1000):\n",
    "        posterior = []\n",
    "        post_weights = []\n",
    "        s1 = self.skill.mu\n",
    "        s1_w = self.skill.var\n",
    "\n",
    "        for _ in range(num_samples):\n",
    "            s2 = stats.norm.rvs(another.skill.mu, another.skill.var ** 0.5)\n",
    "            s2_w = self._importance(s1, s2, result)\n",
    "\n",
    "            posterior.append((s1, s2))\n",
    "            post_weights.append((s1_w, s2_w))\n",
    "\n",
    "            s1 = stats.norm.rvs(self.skill.mu, self.skill.var ** 0.5)\n",
    "            s1_w = self._importance(s1, s2, result)\n",
    "\n",
    "        posterior = np.array(posterior)\n",
    "        post_weights = np.array(post_weights)\n",
    "\n",
    "        self.skill.mu, self.skill.var = self._approx_gaussian(posterior[drops:, 0], post_weights[drops:, 0])\n",
    "        another.skill.mu, another.skill.var = self._approx_gaussian(posterior[drops:, 1], post_weights[drops:, 1])\n",
    "\n",
    "    @staticmethod\n",
    "    def _approx_gaussian(samples, importances):\n",
    "        mu = np.average(samples, weights=importances)\n",
    "        var = np.average((samples - mu) ** 2, weights=importances)\n",
    "        return mu, var\n",
    "\n",
    "    @staticmethod\n",
    "    def _importance(s1, s2, y=1):\n",
    "        pr = 1 - stats.norm(s1 - s2, S_E ** 0.5).cdf(0) if y > 0 else stats.norm(s1 - s2, S_E ** 0.5).cdf(0)\n",
    "        return pr"
   ]
  },
  {
   "cell_type": "code",
   "execution_count": 17,
   "id": "f28004cd",
   "metadata": {},
   "outputs": [],
   "source": [
    "# READ DATA\n",
    "df = pd.read_csv('SerieA.csv', sep=',', header=0)\n",
    "data = df.to_numpy()\n",
    "\n",
    "teams = {name: Team(name, Skill()) for name in np.unique(data[:, 2:4])}\n",
    "\n",
    "num_predictions = 0\n",
    "correct_predictions = 0\n",
    "\n",
    "# for tuning match variance\n",
    "if TUNE_VAR:\n",
    "    t_arr = np.empty((0))\n",
    "    m_arr = np.empty((0, 2))\n",
    "    v_arr = np.empty((0, 2))\n",
    "    s_e = S_E"
   ]
  },
  {
   "cell_type": "markdown",
   "id": "50fe89a0",
   "metadata": {},
   "source": [
    "## Predict match result and update the posterior"
   ]
  },
  {
   "cell_type": "code",
   "execution_count": 18,
   "id": "a056623c",
   "metadata": {},
   "outputs": [
    {
     "name": "stdout",
     "output_type": "stream",
     "text": [
      "Before match: Chievo: 25-69.44 vs Juventus: 25-69.44\n",
      "Team 1 rate: 0.5 ==================== Result: -1\n",
      "After match: Chievo: 20.18-52.3 vs Juventus: 29.4-47.95\n",
      "=======================================================\n",
      "Before match: Lazio: 25-69.44 vs Napoli: 25-69.44\n",
      "Team 1 rate: 0.5 ==================== Result: -1\n",
      "After match: Lazio: 20.76-48.52 vs Napoli: 29.3-45.47\n",
      "=======================================================\n",
      "Before match: Torino: 25-69.44 vs Roma: 25-69.44\n",
      "Team 1 rate: 0.5 ==================== Result: -1\n",
      "After match: Torino: 20.49-51.11 vs Roma: 29.22-49.74\n",
      "=======================================================\n",
      "Before match: Sassuolo: 25-69.44 vs Inter: 25-69.44\n",
      "Team 1 rate: 0.5 ==================== Result: 1\n",
      "After match: Sassuolo: 29.42-50.64 vs Inter: 20.73-51.08\n",
      "=======================================================\n",
      "Before match: Empoli: 25-69.44 vs Cagliari: 25-69.44\n",
      "Team 1 rate: 0.5 ==================== Result: 1\n",
      "After match: Empoli: 29.35-45.48 vs Cagliari: 20.52-50.0\n",
      "=======================================================\n",
      "Before match: Bologna: 25-69.44 vs Spal: 25-69.44\n",
      "Team 1 rate: 0.5 ==================== Result: -1\n",
      "After match: Bologna: 20.82-47.35 vs Spal: 29.63-49.65\n",
      "=======================================================\n",
      "Before match: Atalanta: 25-69.44 vs Frosinone: 25-69.44\n",
      "Team 1 rate: 0.5 ==================== Result: 1\n",
      "After match: Atalanta: 29.18-48.32 vs Frosinone: 20.16-50.18\n",
      "=======================================================\n",
      "Before match: Juventus: 29.4-47.95 vs Lazio: 20.76-48.52\n",
      "Team 1 rate: 0.58 ==================== Result: 1\n",
      "After match: Juventus: 31.08-39.96 vs Lazio: 19.26-39.45\n",
      "=======================================================\n",
      "Before match: Napoli: 29.3-45.47 vs Milan: 25-69.44\n",
      "Team 1 rate: 0.54 ==================== Result: 1\n",
      "After match: Napoli: 31.48-34.91 vs Milan: 21.67-48.57\n",
      "=======================================================\n",
      "Before match: Spal: 29.63-49.65 vs Parma: 25-69.44\n",
      "Team 1 rate: 0.54 ==================== Result: 1\n",
      "After match: Spal: 31.82-38.64 vs Parma: 21.54-46.18\n",
      "=======================================================\n",
      "Before match: Udinese: 25-69.44 vs Sampdoria: 25-69.44\n",
      "Team 1 rate: 0.5 ==================== Result: 1\n",
      "After match: Udinese: 29.54-51.93 vs Sampdoria: 20.36-49.95\n",
      "=======================================================\n",
      "Before match: Genoa: 25-69.44 vs Empoli: 29.35-45.48\n",
      "Team 1 rate: 0.46 ==================== Result: 1\n",
      "After match: Genoa: 31.12-42.47 vs Empoli: 25.25-32.34\n",
      "=======================================================\n",
      "Before match: Fiorentina: 25-69.44 vs Chievo: 20.18-52.3\n",
      "Team 1 rate: 0.55 ==================== Result: 1\n",
      "After match: Fiorentina: 28.35-51.03 vs Chievo: 17.9-41.27\n",
      "=======================================================\n",
      "Before match: Milan: 21.67-48.57 vs Roma: 29.22-49.74\n",
      "Team 1 rate: 0.43 ==================== Result: 1\n"
     ]
    },
    {
     "ename": "KeyboardInterrupt",
     "evalue": "",
     "output_type": "error",
     "traceback": [
      "\u001b[0;31m---------------------------------------------------------------------------\u001b[0m",
      "\u001b[0;31mKeyboardInterrupt\u001b[0m                         Traceback (most recent call last)",
      "Cell \u001b[0;32mIn [18], line 30\u001b[0m\n\u001b[1;32m     28\u001b[0m correct_predictions \u001b[38;5;241m+\u001b[39m\u001b[38;5;241m=\u001b[39m prediction \u001b[38;5;241m==\u001b[39m result\n\u001b[1;32m     29\u001b[0m \u001b[38;5;66;03m# update skills\u001b[39;00m\n\u001b[0;32m---> 30\u001b[0m team1\u001b[38;5;241m.\u001b[39mupdate(team2, result)\n\u001b[1;32m     31\u001b[0m \u001b[38;5;28mprint\u001b[39m(\u001b[38;5;124mf\u001b[39m\u001b[38;5;124m\"\u001b[39m\u001b[38;5;124mAfter match: \u001b[39m\u001b[38;5;132;01m{\u001b[39;00mteam1\u001b[38;5;241m.\u001b[39mname\u001b[38;5;132;01m}\u001b[39;00m\u001b[38;5;124m: \u001b[39m\u001b[38;5;132;01m{\u001b[39;00m\u001b[38;5;28mround\u001b[39m(team1\u001b[38;5;241m.\u001b[39mskill\u001b[38;5;241m.\u001b[39mmu, \u001b[38;5;241m2\u001b[39m)\u001b[38;5;132;01m}\u001b[39;00m\u001b[38;5;124m-\u001b[39m\u001b[38;5;132;01m{\u001b[39;00m\u001b[38;5;28mround\u001b[39m(team1\u001b[38;5;241m.\u001b[39mskill\u001b[38;5;241m.\u001b[39mvar, \u001b[38;5;241m2\u001b[39m)\u001b[38;5;132;01m}\u001b[39;00m\u001b[38;5;124m vs \u001b[39m\u001b[38;5;124m\"\u001b[39m\n\u001b[1;32m     32\u001b[0m       \u001b[38;5;124mf\u001b[39m\u001b[38;5;124m\"\u001b[39m\u001b[38;5;132;01m{\u001b[39;00mteam2\u001b[38;5;241m.\u001b[39mname\u001b[38;5;132;01m}\u001b[39;00m\u001b[38;5;124m: \u001b[39m\u001b[38;5;132;01m{\u001b[39;00m\u001b[38;5;28mround\u001b[39m(team2\u001b[38;5;241m.\u001b[39mskill\u001b[38;5;241m.\u001b[39mmu, \u001b[38;5;241m2\u001b[39m)\u001b[38;5;132;01m}\u001b[39;00m\u001b[38;5;124m-\u001b[39m\u001b[38;5;132;01m{\u001b[39;00m\u001b[38;5;28mround\u001b[39m(team2\u001b[38;5;241m.\u001b[39mskill\u001b[38;5;241m.\u001b[39mvar, \u001b[38;5;241m2\u001b[39m)\u001b[38;5;132;01m}\u001b[39;00m\u001b[38;5;124m\"\u001b[39m)\n\u001b[1;32m     34\u001b[0m \u001b[38;5;28;01mif\u001b[39;00m TUNE_VAR:\n",
      "Cell \u001b[0;32mIn [5], line 33\u001b[0m, in \u001b[0;36mTeam.update\u001b[0;34m(self, another, result, num_samples, drops)\u001b[0m\n\u001b[1;32m     30\u001b[0m     post_weights\u001b[38;5;241m.\u001b[39mappend((s1_w, s2_w))\n\u001b[1;32m     32\u001b[0m     s1 \u001b[38;5;241m=\u001b[39m stats\u001b[38;5;241m.\u001b[39mnorm\u001b[38;5;241m.\u001b[39mrvs(\u001b[38;5;28mself\u001b[39m\u001b[38;5;241m.\u001b[39mskill\u001b[38;5;241m.\u001b[39mmu, \u001b[38;5;28mself\u001b[39m\u001b[38;5;241m.\u001b[39mskill\u001b[38;5;241m.\u001b[39mvar \u001b[38;5;241m*\u001b[39m\u001b[38;5;241m*\u001b[39m \u001b[38;5;241m0.5\u001b[39m)\n\u001b[0;32m---> 33\u001b[0m     s1_w \u001b[38;5;241m=\u001b[39m \u001b[38;5;28;43mself\u001b[39;49m\u001b[38;5;241;43m.\u001b[39;49m\u001b[43m_importance\u001b[49m\u001b[43m(\u001b[49m\u001b[43ms1\u001b[49m\u001b[43m,\u001b[49m\u001b[43m \u001b[49m\u001b[43ms2\u001b[49m\u001b[43m,\u001b[49m\u001b[43m \u001b[49m\u001b[43mresult\u001b[49m\u001b[43m)\u001b[49m\n\u001b[1;32m     35\u001b[0m posterior \u001b[38;5;241m=\u001b[39m np\u001b[38;5;241m.\u001b[39marray(posterior)\n\u001b[1;32m     36\u001b[0m post_weights \u001b[38;5;241m=\u001b[39m np\u001b[38;5;241m.\u001b[39marray(post_weights)\n",
      "Cell \u001b[0;32mIn [5], line 49\u001b[0m, in \u001b[0;36mTeam._importance\u001b[0;34m(s1, s2, y)\u001b[0m\n\u001b[1;32m     47\u001b[0m \u001b[38;5;129m@staticmethod\u001b[39m\n\u001b[1;32m     48\u001b[0m \u001b[38;5;28;01mdef\u001b[39;00m \u001b[38;5;21m_importance\u001b[39m(s1, s2, y\u001b[38;5;241m=\u001b[39m\u001b[38;5;241m1\u001b[39m):\n\u001b[0;32m---> 49\u001b[0m     pr \u001b[38;5;241m=\u001b[39m \u001b[38;5;241m1\u001b[39m \u001b[38;5;241m-\u001b[39m \u001b[43mstats\u001b[49m\u001b[38;5;241;43m.\u001b[39;49m\u001b[43mnorm\u001b[49m\u001b[43m(\u001b[49m\u001b[43ms1\u001b[49m\u001b[43m \u001b[49m\u001b[38;5;241;43m-\u001b[39;49m\u001b[43m \u001b[49m\u001b[43ms2\u001b[49m\u001b[43m,\u001b[49m\u001b[43m \u001b[49m\u001b[43mS_E\u001b[49m\u001b[43m \u001b[49m\u001b[38;5;241;43m*\u001b[39;49m\u001b[38;5;241;43m*\u001b[39;49m\u001b[43m \u001b[49m\u001b[38;5;241;43m0.5\u001b[39;49m\u001b[43m)\u001b[49m\u001b[38;5;241m.\u001b[39mcdf(\u001b[38;5;241m0\u001b[39m) \u001b[38;5;28;01mif\u001b[39;00m y \u001b[38;5;241m>\u001b[39m \u001b[38;5;241m0\u001b[39m \u001b[38;5;28;01melse\u001b[39;00m stats\u001b[38;5;241m.\u001b[39mnorm(s1 \u001b[38;5;241m-\u001b[39m s2, S_E \u001b[38;5;241m*\u001b[39m\u001b[38;5;241m*\u001b[39m \u001b[38;5;241m0.5\u001b[39m)\u001b[38;5;241m.\u001b[39mcdf(\u001b[38;5;241m0\u001b[39m)\n\u001b[1;32m     50\u001b[0m     \u001b[38;5;28;01mreturn\u001b[39;00m pr\n",
      "File \u001b[0;32m~/Library/Python/3.8/lib/python/site-packages/scipy/stats/_distn_infrastructure.py:859\u001b[0m, in \u001b[0;36mrv_generic.__call__\u001b[0;34m(self, *args, **kwds)\u001b[0m\n\u001b[1;32m    858\u001b[0m \u001b[38;5;28;01mdef\u001b[39;00m \u001b[38;5;21m__call__\u001b[39m(\u001b[38;5;28mself\u001b[39m, \u001b[38;5;241m*\u001b[39margs, \u001b[38;5;241m*\u001b[39m\u001b[38;5;241m*\u001b[39mkwds):\n\u001b[0;32m--> 859\u001b[0m     \u001b[38;5;28;01mreturn\u001b[39;00m \u001b[38;5;28;43mself\u001b[39;49m\u001b[38;5;241;43m.\u001b[39;49m\u001b[43mfreeze\u001b[49m\u001b[43m(\u001b[49m\u001b[38;5;241;43m*\u001b[39;49m\u001b[43margs\u001b[49m\u001b[43m,\u001b[49m\u001b[43m \u001b[49m\u001b[38;5;241;43m*\u001b[39;49m\u001b[38;5;241;43m*\u001b[39;49m\u001b[43mkwds\u001b[49m\u001b[43m)\u001b[49m\n",
      "File \u001b[0;32m~/Library/Python/3.8/lib/python/site-packages/scipy/stats/_distn_infrastructure.py:854\u001b[0m, in \u001b[0;36mrv_generic.freeze\u001b[0;34m(self, *args, **kwds)\u001b[0m\n\u001b[1;32m    839\u001b[0m \u001b[38;5;124;03m\"\"\"Freeze the distribution for the given arguments.\u001b[39;00m\n\u001b[1;32m    840\u001b[0m \n\u001b[1;32m    841\u001b[0m \u001b[38;5;124;03mParameters\u001b[39;00m\n\u001b[0;32m   (...)\u001b[0m\n\u001b[1;32m    851\u001b[0m \n\u001b[1;32m    852\u001b[0m \u001b[38;5;124;03m\"\"\"\u001b[39;00m\n\u001b[1;32m    853\u001b[0m \u001b[38;5;28;01mif\u001b[39;00m \u001b[38;5;28misinstance\u001b[39m(\u001b[38;5;28mself\u001b[39m, rv_continuous):\n\u001b[0;32m--> 854\u001b[0m     \u001b[38;5;28;01mreturn\u001b[39;00m \u001b[43mrv_continuous_frozen\u001b[49m\u001b[43m(\u001b[49m\u001b[38;5;28;43mself\u001b[39;49m\u001b[43m,\u001b[49m\u001b[43m \u001b[49m\u001b[38;5;241;43m*\u001b[39;49m\u001b[43margs\u001b[49m\u001b[43m,\u001b[49m\u001b[43m \u001b[49m\u001b[38;5;241;43m*\u001b[39;49m\u001b[38;5;241;43m*\u001b[39;49m\u001b[43mkwds\u001b[49m\u001b[43m)\u001b[49m\n\u001b[1;32m    855\u001b[0m \u001b[38;5;28;01melse\u001b[39;00m:\n\u001b[1;32m    856\u001b[0m     \u001b[38;5;28;01mreturn\u001b[39;00m rv_discrete_frozen(\u001b[38;5;28mself\u001b[39m, \u001b[38;5;241m*\u001b[39margs, \u001b[38;5;241m*\u001b[39m\u001b[38;5;241m*\u001b[39mkwds)\n",
      "File \u001b[0;32m~/Library/Python/3.8/lib/python/site-packages/scipy/stats/_distn_infrastructure.py:439\u001b[0m, in \u001b[0;36mrv_frozen.__init__\u001b[0;34m(self, dist, *args, **kwds)\u001b[0m\n\u001b[1;32m    436\u001b[0m \u001b[38;5;28mself\u001b[39m\u001b[38;5;241m.\u001b[39mkwds \u001b[38;5;241m=\u001b[39m kwds\n\u001b[1;32m    438\u001b[0m \u001b[38;5;66;03m# create a new instance\u001b[39;00m\n\u001b[0;32m--> 439\u001b[0m \u001b[38;5;28mself\u001b[39m\u001b[38;5;241m.\u001b[39mdist \u001b[38;5;241m=\u001b[39m \u001b[43mdist\u001b[49m\u001b[38;5;241;43m.\u001b[39;49m\u001b[38;5;18;43m__class__\u001b[39;49m\u001b[43m(\u001b[49m\u001b[38;5;241;43m*\u001b[39;49m\u001b[38;5;241;43m*\u001b[39;49m\u001b[43mdist\u001b[49m\u001b[38;5;241;43m.\u001b[39;49m\u001b[43m_updated_ctor_param\u001b[49m\u001b[43m(\u001b[49m\u001b[43m)\u001b[49m\u001b[43m)\u001b[49m\n\u001b[1;32m    441\u001b[0m shapes, _, _ \u001b[38;5;241m=\u001b[39m \u001b[38;5;28mself\u001b[39m\u001b[38;5;241m.\u001b[39mdist\u001b[38;5;241m.\u001b[39m_parse_args(\u001b[38;5;241m*\u001b[39margs, \u001b[38;5;241m*\u001b[39m\u001b[38;5;241m*\u001b[39mkwds)\n\u001b[1;32m    442\u001b[0m \u001b[38;5;28mself\u001b[39m\u001b[38;5;241m.\u001b[39ma, \u001b[38;5;28mself\u001b[39m\u001b[38;5;241m.\u001b[39mb \u001b[38;5;241m=\u001b[39m \u001b[38;5;28mself\u001b[39m\u001b[38;5;241m.\u001b[39mdist\u001b[38;5;241m.\u001b[39m_get_support(\u001b[38;5;241m*\u001b[39mshapes)\n",
      "File \u001b[0;32m~/Library/Python/3.8/lib/python/site-packages/scipy/stats/_distn_infrastructure.py:1946\u001b[0m, in \u001b[0;36mrv_continuous.__init__\u001b[0;34m(self, momtype, a, b, xtol, badvalue, name, longname, shapes, extradoc, seed)\u001b[0m\n\u001b[1;32m   1944\u001b[0m \u001b[38;5;28;01melse\u001b[39;00m:\n\u001b[1;32m   1945\u001b[0m     dct \u001b[38;5;241m=\u001b[39m \u001b[38;5;28mdict\u001b[39m(distcont)\n\u001b[0;32m-> 1946\u001b[0m     \u001b[38;5;28;43mself\u001b[39;49m\u001b[38;5;241;43m.\u001b[39;49m\u001b[43m_construct_doc\u001b[49m\u001b[43m(\u001b[49m\u001b[43mdocdict\u001b[49m\u001b[43m,\u001b[49m\u001b[43m \u001b[49m\u001b[43mdct\u001b[49m\u001b[38;5;241;43m.\u001b[39;49m\u001b[43mget\u001b[49m\u001b[43m(\u001b[49m\u001b[38;5;28;43mself\u001b[39;49m\u001b[38;5;241;43m.\u001b[39;49m\u001b[43mname\u001b[49m\u001b[43m)\u001b[49m\u001b[43m)\u001b[49m\n",
      "File \u001b[0;32m~/Library/Python/3.8/lib/python/site-packages/scipy/stats/_distn_infrastructure.py:815\u001b[0m, in \u001b[0;36mrv_generic._construct_doc\u001b[0;34m(self, docdict, shapes_vals)\u001b[0m\n\u001b[1;32m    813\u001b[0m     \u001b[38;5;28mself\u001b[39m\u001b[38;5;241m.\u001b[39m\u001b[38;5;18m__doc__\u001b[39m \u001b[38;5;241m=\u001b[39m \u001b[38;5;28mself\u001b[39m\u001b[38;5;241m.\u001b[39m\u001b[38;5;18m__doc__\u001b[39m\u001b[38;5;241m.\u001b[39mreplace(\u001b[38;5;124m\"\u001b[39m\u001b[38;5;132;01m%(shapes)s\u001b[39;00m\u001b[38;5;124m, \u001b[39m\u001b[38;5;124m\"\u001b[39m, \u001b[38;5;124m\"\u001b[39m\u001b[38;5;124m\"\u001b[39m)\n\u001b[1;32m    814\u001b[0m \u001b[38;5;28;01mtry\u001b[39;00m:\n\u001b[0;32m--> 815\u001b[0m     \u001b[38;5;28mself\u001b[39m\u001b[38;5;241m.\u001b[39m\u001b[38;5;18m__doc__\u001b[39m \u001b[38;5;241m=\u001b[39m \u001b[43mdoccer\u001b[49m\u001b[38;5;241;43m.\u001b[39;49m\u001b[43mdocformat\u001b[49m\u001b[43m(\u001b[49m\u001b[38;5;28;43mself\u001b[39;49m\u001b[38;5;241;43m.\u001b[39;49m\u001b[38;5;18;43m__doc__\u001b[39;49m\u001b[43m,\u001b[49m\u001b[43m \u001b[49m\u001b[43mtempdict\u001b[49m\u001b[43m)\u001b[49m\n\u001b[1;32m    816\u001b[0m \u001b[38;5;28;01mexcept\u001b[39;00m \u001b[38;5;167;01mTypeError\u001b[39;00m \u001b[38;5;28;01mas\u001b[39;00m e:\n\u001b[1;32m    817\u001b[0m     \u001b[38;5;28;01mraise\u001b[39;00m \u001b[38;5;167;01mException\u001b[39;00m(\u001b[38;5;124m\"\u001b[39m\u001b[38;5;124mUnable to construct docstring for \u001b[39m\u001b[38;5;124m\"\u001b[39m\n\u001b[1;32m    818\u001b[0m                     \u001b[38;5;124m\"\u001b[39m\u001b[38;5;124mdistribution \u001b[39m\u001b[38;5;130;01m\\\"\u001b[39;00m\u001b[38;5;132;01m%s\u001b[39;00m\u001b[38;5;130;01m\\\"\u001b[39;00m\u001b[38;5;124m: \u001b[39m\u001b[38;5;132;01m%s\u001b[39;00m\u001b[38;5;124m\"\u001b[39m \u001b[38;5;241m%\u001b[39m\n\u001b[1;32m    819\u001b[0m                     (\u001b[38;5;28mself\u001b[39m\u001b[38;5;241m.\u001b[39mname, \u001b[38;5;28mrepr\u001b[39m(e))) \u001b[38;5;28;01mfrom\u001b[39;00m \u001b[38;5;21;01me\u001b[39;00m\n",
      "File \u001b[0;32m~/Library/Python/3.8/lib/python/site-packages/scipy/_lib/doccer.py:51\u001b[0m, in \u001b[0;36mdocformat\u001b[0;34m(docstring, docdict)\u001b[0m\n\u001b[1;32m     49\u001b[0m \u001b[38;5;28;01mif\u001b[39;00m \u001b[38;5;129;01mnot\u001b[39;00m docdict:\n\u001b[1;32m     50\u001b[0m     \u001b[38;5;28;01mreturn\u001b[39;00m docstring\n\u001b[0;32m---> 51\u001b[0m lines \u001b[38;5;241m=\u001b[39m \u001b[43mdocstring\u001b[49m\u001b[38;5;241;43m.\u001b[39;49m\u001b[43mexpandtabs\u001b[49m\u001b[43m(\u001b[49m\u001b[43m)\u001b[49m\u001b[38;5;241;43m.\u001b[39;49m\u001b[43msplitlines\u001b[49m\u001b[43m(\u001b[49m\u001b[43m)\u001b[49m\n\u001b[1;32m     52\u001b[0m \u001b[38;5;66;03m# Find the minimum indent of the main docstring, after first line\u001b[39;00m\n\u001b[1;32m     53\u001b[0m \u001b[38;5;28;01mif\u001b[39;00m \u001b[38;5;28mlen\u001b[39m(lines) \u001b[38;5;241m<\u001b[39m \u001b[38;5;241m2\u001b[39m:\n",
      "\u001b[0;31mKeyboardInterrupt\u001b[0m: "
     ]
    }
   ],
   "source": [
    "for match in data:\n",
    "\n",
    "    team1 = teams[match[2]]\n",
    "    team2 = teams[match[3]]\n",
    "\n",
    "    # skip draws\n",
    "    if match[4] == match[5]:\n",
    "        continue\n",
    "\n",
    "    # for tuning match variance\n",
    "    if TUNE_VAR:\n",
    "        t_arr = np.append(t_arr, team2.skill.mu - team2.skill.var)\n",
    "        m_arr = np.append(m_arr, [[team1.skill.mu, team2.skill.mu]], axis=0)\n",
    "        v_arr = np.append(v_arr, [[team1.skill.var, team2.skill.var]], axis=0)\n",
    "        s_e = tune_match_variance(t_arr, m_arr[:, 0], m_arr[:, 1], v_arr[:, 0], v_arr[:, 1], s0=s_e) # compute optimal variance given observed results\n",
    "        s_e_conv = []\n",
    "    else:\n",
    "        s_e = S_E\n",
    "\n",
    "    num_predictions += 1\n",
    "    result = 1 if match[4] > match[5] else -1\n",
    "    print(f\"Before match: {team1.name}: {round(team1.skill.mu, 2)}-{round(team1.skill.var, 2)} vs \"\n",
    "          f\"{team2.name}: {round(team2.skill.mu, 2)}-{round(team2.skill.var, 2)}\")\n",
    "    print(f\"Team 1 rate: {round(team1.predict(team2, s_e=s_e), 2)} ==================== Result: {result}\")\n",
    "\n",
    "    prediction = 1 if team1.predict(team2, s_e=s_e) >= 0.5 else -1\n",
    "\n",
    "    correct_predictions += prediction == result\n",
    "    # update skills\n",
    "    team1.update(team2, result)\n",
    "    print(f\"After match: {team1.name}: {round(team1.skill.mu, 2)}-{round(team1.skill.var, 2)} vs \"\n",
    "          f\"{team2.name}: {round(team2.skill.mu, 2)}-{round(team2.skill.var, 2)}\")\n",
    "    \n",
    "    if TUNE_VAR:\n",
    "        s_e_conv.append(s_e)\n",
    "\n",
    "    print(\"=======================================================\")"
   ]
  },
  {
   "cell_type": "markdown",
   "id": "052c5a47",
   "metadata": {},
   "source": [
    "### Output posterior distribution parameters and  prediction accuracy"
   ]
  },
  {
   "cell_type": "code",
   "execution_count": null,
   "id": "5008147a",
   "metadata": {},
   "outputs": [],
   "source": [
    "with open(\"result.txt\", \"w\") as f:\n",
    "    f.write(\"name, mu, var\\n\")\n",
    "    for _, v in teams.items():\n",
    "        f.write(f\"{v.name}, {round(v.skill.mu, 4)}, {round(v.skill.var, 4)}\\n\")\n",
    "    f.write(f\"==========================\\nPrediction accuracy: {correct_predictions/num_predictions}\")"
   ]
  },
  {
   "cell_type": "markdown",
   "id": "683e41c3",
   "metadata": {},
   "source": [
    "### Plot hyperparameter convergence during its tuning if TUNE_VAR == True"
   ]
  },
  {
   "cell_type": "code",
   "execution_count": 22,
   "id": "f2ea376e",
   "metadata": {},
   "outputs": [
    {
     "data": {
      "image/png": "[encoded data removed]",
      "text/plain": [
       "<Figure size 800x400 with 1 Axes>"
      ]
     },
     "metadata": {},
     "output_type": "display_data"
    }
   ],
   "source": [
    "if TUNE_VAR:\n",
    "    plt.figure(figsize=(8, 4))\n",
    "    plt.plot(range(len(s_e_conv)), s_e_conv)\n",
    "    plt.xlabel(\"# of match results observed\", fontsize=12)\n",
    "    plt.ylabel(\"match result var. $\\sigma_t^2$\", rotation=90, fontsize=12)"
   ]
  },
  {
   "cell_type": "code",
   "execution_count": null,
   "id": "c024b00f",
   "metadata": {},
   "outputs": [],
   "source": []
  }
 ],
 "metadata": {
  "kernelspec": {
   "display_name": "Python 3 (ipykernel)",
   "language": "python",
   "name": "python3"
  },
  "language_info": {
   "codemirror_mode": {
    "name": "ipython",
    "version": 3
   },
   "file_extension": ".py",
   "mimetype": "text/x-python",
   "name": "python",
   "nbconvert_exporter": "python",
   "pygments_lexer": "ipython3",
   "version": "3.8.9"
  }
 },
 "nbformat": 4,
 "nbformat_minor": 5
}
